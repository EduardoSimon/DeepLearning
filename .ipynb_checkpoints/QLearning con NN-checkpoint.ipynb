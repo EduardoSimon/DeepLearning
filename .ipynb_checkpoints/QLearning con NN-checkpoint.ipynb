{
 "cells": [
  {
   "cell_type": "code",
   "execution_count": 1,
   "metadata": {},
   "outputs": [
    {
     "name": "stderr",
     "output_type": "stream",
     "text": [
      "C:\\ProgramData\\Anaconda3\\lib\\site-packages\\h5py\\__init__.py:36: FutureWarning: Conversion of the second argument of issubdtype from `float` to `np.floating` is deprecated. In future, it will be treated as `np.float64 == np.dtype(float).type`.\n",
      "  from ._conv import register_converters as _register_converters\n"
     ]
    }
   ],
   "source": [
    "import gym\n",
    "import numpy as np\n",
    "import random\n",
    "import tensorflow as tf\n",
    "import matplotlib.pyplot as plt\n",
    "%matplotlib inline"
   ]
  },
  {
   "cell_type": "code",
   "execution_count": 2,
   "metadata": {},
   "outputs": [],
   "source": [
    "#Es un entorno sencillo que nos permite hacer pruebas rapidas con QLearning\n",
    "env = gym.make('FrozenLake-v0')"
   ]
  },
  {
   "cell_type": "code",
   "execution_count": 3,
   "metadata": {},
   "outputs": [],
   "source": [
    "tf.reset_default_graph()"
   ]
  },
  {
   "cell_type": "code",
   "execution_count": null,
   "metadata": {},
   "outputs": [],
   "source": [
    "#Si usamos una red neuronal para predecir el valor de un par (Estado,accion)\n",
    "\n",
    "#Aquí no hay función de activación por lo que todo el modelo será lineal\n",
    "#Para un caso simple como este basta, pero para casos mas complejos necesitaremos funciones de activacion como RELU o la sigmoide.\n",
    "#La predicción será la acción que mayor Q tenga\n",
    "\n",
    "inputs1 = tf.placeholder(shape=[1,16],dtype=tf.float32)\n",
    "W = tf.Variable(tf.random_uniform([16,4],0,0.01))  #Los pesos serán los parámetros que modificará la NN\n",
    "Qout = tf.matmul(inputs1,W)\n",
    "predict = tf.argmax(Qout,1)\n",
    "\n",
    "nextQ = tf.placeholder(shape = [1,4], dtype = tf.float32)\n",
    "#al usar los errores cuadráticos les damos más importancia a los mayores y menos a las pequeñas desviaciones\n",
    "loss = tf.reduce_sum(tf.square(nextQ - Qout))\n",
    "\n",
    "trainer = tf.train.GradientDescentOptimizer(learning_rate = 0.1)\n",
    "updateModel = trainer.minimize(loss)"
   ]
  },
  {
   "cell_type": "code",
   "execution_count": null,
   "metadata": {},
   "outputs": [],
   "source": [
    "init = tf.initializers.global_variables()\n",
    "\n",
    "gamma = .99\n",
    "epsilon = .1\n",
    "num_episodes = 6000\n",
    "\n",
    "episode_list = []\n",
    "reward_list = []\n",
    "\n",
    "with tf.Session() as sess:\n",
    "    sess.run(init)\n",
    "    for i in range(num_episodes):\n",
    "        s = env.reset()\n",
    "        rAll = 0\n",
    "        d = False\n",
    "        j = 0\n",
    "        \n",
    "        while j < 99:\n",
    "            j += 1\n",
    "            \n",
    "            a,allQ = sess.run([predict,Qout], feed_dict = {inputs1:np.identity(16)[s:s+1]})\n",
    "            \n",
    "            if np.random.rand(1) < epsilon:\n",
    "                a[0] = env.action_space.sample()\n",
    "                \n",
    "            s1,r,d,_ = env.step(a[0])\n",
    "            \n",
    "            Q1 = sess.run(Qout, feed_dict = {inputs1:np.identity(16)[s1:s1+1]})\n",
    "            \n",
    "            maxQ1 = np.max(Q1)\n",
    "            targetQ = allQ\n",
    "            targetQ[0,a[0]] = r + gamma*maxQ1\n",
    "            \n",
    "            _,W1 = sess.run([updateModel,W],feed_dict={inputs1:np.identity(16)[s:s+1],nextQ:targetQ})\n",
    "            rAll += r\n",
    "            s = s1\n",
    "            if d == True:\n",
    "                epsilon = 1./((i/50) + 10)\n",
    "                break\n",
    "        episode_list.append(j)\n",
    "        reward_list.append(rAll)\n",
    "        print(\"Percent of succesful episodes: \" + str(sum(reward_list)/num_episodes) + \"% at iteration:\" + str(i))\n",
    "        \n",
    "\n",
    "        \n",
    "        "
   ]
  },
  {
   "cell_type": "code",
   "execution_count": null,
   "metadata": {},
   "outputs": [],
   "source": [
    "plt.yscale(2)\n",
    "plt.plot(reward_list)"
   ]
  },
  {
   "cell_type": "code",
   "execution_count": null,
   "metadata": {},
   "outputs": [],
   "source": [
    "plt.plot(episode_list)"
   ]
  },
  {
   "cell_type": "code",
   "execution_count": null,
   "metadata": {},
   "outputs": [],
   "source": []
  }
 ],
 "metadata": {
  "kernelspec": {
   "display_name": "Python 3",
   "language": "python",
   "name": "python3"
  },
  "language_info": {
   "codemirror_mode": {
    "name": "ipython",
    "version": 3
   },
   "file_extension": ".py",
   "mimetype": "text/x-python",
   "name": "python",
   "nbconvert_exporter": "python",
   "pygments_lexer": "ipython3",
   "version": "3.6.4"
  }
 },
 "nbformat": 4,
 "nbformat_minor": 2
}
