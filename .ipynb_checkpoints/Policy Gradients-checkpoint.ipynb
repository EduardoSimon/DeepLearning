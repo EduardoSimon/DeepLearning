{
 "cells": [
  {
   "cell_type": "code",
   "execution_count": 1,
   "metadata": {},
   "outputs": [
    {
     "name": "stderr",
     "output_type": "stream",
     "text": [
      "C:\\ProgramData\\Anaconda3\\lib\\site-packages\\h5py\\__init__.py:36: FutureWarning: Conversion of the second argument of issubdtype from `float` to `np.floating` is deprecated. In future, it will be treated as `np.float64 == np.dtype(float).type`.\n",
      "  from ._conv import register_converters as _register_converters\n"
     ]
    }
   ],
   "source": [
    "import tensorflow as tf\n",
    "import gym\n",
    "import numpy as np"
   ]
  },
  {
   "cell_type": "code",
   "execution_count": 2,
   "metadata": {},
   "outputs": [],
   "source": [
    "def test_environment(iterations):\n",
    "    env = gym.make(\"MountainCar-v0\")   \n",
    "    \n",
    "    print(env.action_space)\n",
    "    print(env.observation_space)\n",
    "    \n",
    "    env.reset()\n",
    "    \n",
    "    for _ in range(iterations):\n",
    "        env.render()\n",
    "        env.step(env.action_space.sample()) # take a random action\n",
    "    \n",
    "    env.close()"
   ]
  },
  {
   "cell_type": "code",
   "execution_count": 3,
   "metadata": {},
   "outputs": [
    {
     "name": "stdout",
     "output_type": "stream",
     "text": [
      "\u001b[33mWARN: gym.spaces.Box autodetected dtype as <class 'numpy.float32'>. Please provide explicit dtype.\u001b[0m\n",
      "Discrete(3)\n",
      "Box(2,)\n"
     ]
    }
   ],
   "source": [
    "test_environment(10)"
   ]
  },
  {
   "cell_type": "code",
   "execution_count": 4,
   "metadata": {},
   "outputs": [
    {
     "name": "stdout",
     "output_type": "stream",
     "text": [
      "\u001b[33mWARN: gym.spaces.Box autodetected dtype as <class 'numpy.float32'>. Please provide explicit dtype.\u001b[0m\n"
     ]
    },
    {
     "data": {
      "text/plain": [
       "[1]"
      ]
     },
     "execution_count": 4,
     "metadata": {},
     "output_type": "execute_result"
    }
   ],
   "source": [
    "env = gym.make(\"MountainCar-v0\")\n",
    "env = env.unwrapped\n",
    "env.seed(1)"
   ]
  },
  {
   "cell_type": "code",
   "execution_count": 5,
   "metadata": {},
   "outputs": [],
   "source": [
    "dims = env.observation_space.shape\n",
    "\n",
    "observation_size = dims[0]\n",
    "action_size = env.action_space.n\n",
    "\n",
    "max_episodes = 300\n",
    "learning_rate = 0.01  ##probar diferentes usando tensorflow\n",
    "gamma = 0.95 #discount rate\n",
    "training = True\n",
    "render_env = True"
   ]
  },
  {
   "cell_type": "code",
   "execution_count": 6,
   "metadata": {},
   "outputs": [],
   "source": [
    "def calculate_discounted_rewards(episode_rewards):\n",
    "    discounted_episode_rewards = np.zeros_like(episode_rewards)\n",
    "    cumulative = 0.0\n",
    "    \n",
    "    for i in reversed(range(len(episode_rewards))):\n",
    "        cumulative = cumulative * gamma + episode_rewards[i]\n",
    "        discounted_episode_rewards[i] = cumulative\n",
    "    \n",
    "    mean = np.mean(discounted_episode_rewards)\n",
    "    std = np.std(discounted_episode_rewards)\n",
    "    discounted_episode_rewards = (discounted_episode_rewards -mean) / (std)\n",
    "    \n",
    "    return discounted_episode_rewards"
   ]
  },
  {
   "cell_type": "code",
   "execution_count": 7,
   "metadata": {},
   "outputs": [],
   "source": [
    "class PolicyGradient():\n",
    "    \n",
    "    def __init__(self):\n",
    "        self.observations = tf.placeholder(shape=(None,observation_size),dtype = tf.float32, name = \"observations\")\n",
    "        self.actions = tf.placeholder(shape = (None, action_size), dtype = tf.float32, name = \"actions\")\n",
    "        self.discounted_rewards_ = tf.placeholder(shape = (None,), dtype=tf.float32, name = \"discounted_episodes_rewards\")\n",
    "\n",
    "        #usamos esta variable para visualizar en tensorboard\n",
    "        self.mean_reward_ = tf.placeholder(tf.float32 , name=\"mean_reward\")\n",
    "        self.max_position = tf.placeholder(tf.float32, name = \"max_position\")\n",
    "\n",
    "        #3 fully connected layers\n",
    "        self.fc1 = tf.layers.dense(inputs=self.observations, units=10,activation=tf.nn.relu,kernel_initializer=tf.contrib.layers.xavier_initializer(),name=\"Fc1\")\n",
    "\n",
    "        self.fc2 = tf.layers.dense(inputs=self.fc1, units= action_size, activation=tf.nn.relu,kernel_initializer=tf.contrib.layers.xavier_initializer(), name = \"Fc2\")\n",
    "\n",
    "        self.output = tf.layers.dense(inputs=self.fc2, units = action_size, activation= None, kernel_initializer=tf.contrib.layers.xavier_initializer(), name = \"output\")\n",
    "\n",
    "        self.action_distribution = tf.nn.softmax(self.output, name= \"action_distribution\")\n",
    "\n",
    "        self.neg_log_prob = tf.nn.softmax_cross_entropy_with_logits_v2(logits = self.output, labels = self.actions, name = \"sotfmax\")\n",
    "        self.loss = tf.reduce_mean(self.neg_log_prob * self.discounted_rewards_, name = \"loss\") \n",
    "        self.train_opt = tf.train.AdamOptimizer(learning_rate,name=\"optimizer\").minimize(self.loss)"
   ]
  },
  {
   "cell_type": "code",
   "execution_count": 8,
   "metadata": {},
   "outputs": [],
   "source": [
    "tf.reset_default_graph()\n",
    "\n",
    "policy = PolicyGradient()"
   ]
  },
  {
   "cell_type": "code",
   "execution_count": null,
   "metadata": {},
   "outputs": [
    {
     "name": "stdout",
     "output_type": "stream",
     "text": [
      "INFO:tensorflow:Summary name Max Position is illegal; using Max_Position instead.\n"
     ]
    }
   ],
   "source": [
    "# Setup TensorBoard Writer\n",
    "writer = tf.summary.FileWriter(\"/tensorboard/pg/1\")\n",
    "\n",
    "## Losses\n",
    "tf.summary.scalar(\"Loss\", policy.loss)\n",
    "## Reward mean\n",
    "tf.summary.scalar(\"Reward_mean\", policy.mean_reward_)\n",
    "tf.summary.scalar(\"Max Position\", policy.max_position)\n",
    "\n",
    "write_op = tf.summary.merge_all()"
   ]
  },
  {
   "cell_type": "code",
   "execution_count": null,
   "metadata": {},
   "outputs": [],
   "source": [
    "allRewards = []\n",
    "total_rewards = 0\n",
    "maximumRewardRecorded = 0\n",
    "episode = 0\n",
    "#episode data after full simulation before training\n",
    "episode_states, episode_actions, episode_rewards = [],[],[]\n",
    "max_position = -.4\n",
    "\n",
    "saver = tf.train.Saver()\n",
    "if training:\n",
    "    with tf.Session() as sess:\n",
    "        sess.run(tf.global_variables_initializer())\n",
    "        writer.add_graph(sess.graph)\n",
    "        \n",
    "        for episode in range(max_episodes):\n",
    "            episodes_rewards_sum = 0\n",
    "            state = env.reset()\n",
    "            \n",
    "            if render_env:\n",
    "                env.render()\n",
    "\n",
    "            #we simulate the episode until its finished\n",
    "            while True:\n",
    "                #conseguimos las probabilidades de las acciones segun la politica\n",
    "                action_prob_distribution = sess.run(policy.action_distribution, feed_dict = {policy.observations: state.reshape([1,2])})\n",
    "                action = np.random.choice(range(action_prob_distribution.shape[1]), p = action_prob_distribution.ravel())\n",
    "\n",
    "                #realizamos esas acciones y guardamos la informacion del estado, accion y recompensa en sus respectivos arrays\n",
    "                new_state, reward, done, info = env.step(action)\n",
    "                \n",
    "                reward = new_state[0] + 0.5\n",
    "                \n",
    "                if new_state[0] > max_position:\n",
    "                    max_position = new_state[0]\n",
    "                \n",
    "                if new_state[0] >= 0.5:\n",
    "                    reward += 1\n",
    "                    \n",
    "                episode_states.append(state)\n",
    "\n",
    "                action_ = np.zeros(action_size)\n",
    "                action_[action] = 1\n",
    "                episode_actions.append(action_)\n",
    "\n",
    "                episode_rewards.append(reward)\n",
    "\n",
    "                #when we finished the episode we calculate all the reward and calculate the score function\n",
    "                if done:\n",
    "                    episode_rewards_sum = np.sum(episode_rewards)\n",
    "                    allRewards.append(episode_rewards_sum)\n",
    "                    total_rewards = np.sum(allRewards)\n",
    "\n",
    "                    mean_reward = np.divide(total_rewards,episode+1)\n",
    "                    maximumRewardRecorded = np.amax(allRewards)\n",
    "\n",
    "                    print(\"======================================\")\n",
    "                    print('Episode: ',episode)\n",
    "                    print('Episode reward sum:  ', episode_rewards_sum)\n",
    "                    print('Mean reward: ', mean_reward)\n",
    "                    print('Maximum reward: ',maximumRewardRecorded)\n",
    "                    print('Furthest position: ', max_position)\n",
    "\n",
    "                    discounted_episode_rewards = calculate_discounted_rewards(episode_rewards)\n",
    "\n",
    "                    #feedforward, gradient calculation and backprop\n",
    "                    # Feedforward, gradient and backpropagation\n",
    "                    loss_, _ = sess.run([policy.loss, policy.train_opt], feed_dict={policy.observations: np.vstack(np.array(episode_states)),\n",
    "                                                                     policy.actions: np.vstack(np.array(episode_actions)),\n",
    "                                                                     policy.discounted_rewards_: discounted_episode_rewards})\n",
    "\n",
    "\n",
    "\n",
    "                    # Write TF Summaries\n",
    "                    summary = sess.run(write_op, feed_dict={policy.observations: np.vstack(np.array(episode_states)),\n",
    "                                                            policy.actions: np.vstack(np.array(episode_actions)),\n",
    "                                                            policy.discounted_rewards_: discounted_episode_rewards,\n",
    "                                                            policy.mean_reward_: mean_reward,\n",
    "                                                            policy.max_position : max_position})\n",
    "\n",
    "                    writer.add_summary(summary, episode)\n",
    "                    writer.flush()\n",
    "\n",
    "                    # Reset the transition stores\n",
    "                    episode_states, episode_actions, episode_rewards = [],[],[]\n",
    "\n",
    "                    break\n",
    "\n",
    "                state = new_state\n",
    "                \n",
    "            if episode % 10 == 0:\n",
    "                print(\"Saving Model\")\n",
    "                save_path = saver.save(sess, \"/DeepLearning/mountain_models/mountain_model\")"
   ]
  },
  {
   "cell_type": "code",
   "execution_count": null,
   "metadata": {},
   "outputs": [],
   "source": [
    "\n",
    "with tf.Session() as sess:\n",
    "    saver = tf.train.import_meta_graph(\"/DeepLearning/mountain_models/mountain_model.meta\")\n",
    "    saver.restore(sess, tf.train.latest_checkpoint(\"/DeepLearning/mountain_models\"))\n",
    "    \n",
    "    sess.run(tf.global_variables_initializer())\n",
    "\n",
    "    for i in range(20):\n",
    "        env.reset()\n",
    "        episode_score = 0\n",
    "        env.render()\n",
    "        action_prob_distribution = sess.run(policy.action_distribution, feed_dict = {policy.observations: state.reshape([1,2])})\n",
    "        action = np.random.choice(range(action_prob_distribution.shape[1]), p = action_prob_distribution.ravel())\n",
    "\n",
    "        new_state, reward, done,_ = env.step(action)\n",
    "        episode_score += reward\n",
    "        \n",
    "        while not done:\n",
    "            env.render()\n",
    "            action_prob_distribution = sess.run(policy.action_distribution, feed_dict = {policy.observations: state.reshape([1,2])})\n",
    "            action = np.random.choice(range(action_prob_distribution.shape[1]), p = action_prob_distribution.ravel())\n",
    "            new_state, reward, done,_ = env.step(action)\n",
    "            episode_score += reward\n",
    "        \n",
    "        print(\"Score for episode \", i , \" :\", episode_score)\n",
    "    \n",
    "    env.close()\n",
    "            \n",
    "        \n",
    "        "
   ]
  },
  {
   "cell_type": "code",
   "execution_count": null,
   "metadata": {},
   "outputs": [],
   "source": []
  }
 ],
 "metadata": {
  "kernelspec": {
   "display_name": "Python 3",
   "language": "python",
   "name": "python3"
  },
  "language_info": {
   "codemirror_mode": {
    "name": "ipython",
    "version": 3
   },
   "file_extension": ".py",
   "mimetype": "text/x-python",
   "name": "python",
   "nbconvert_exporter": "python",
   "pygments_lexer": "ipython3",
   "version": "3.6.4"
  }
 },
 "nbformat": 4,
 "nbformat_minor": 2
}
