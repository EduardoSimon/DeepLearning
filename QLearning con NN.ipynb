{
 "cells": [
  {
   "cell_type": "code",
   "execution_count": 1,
   "metadata": {},
   "outputs": [
    {
     "ename": "ModuleNotFoundError",
     "evalue": "No module named 'matplotlib'",
     "output_type": "error",
     "traceback": [
      "\u001b[1;31m---------------------------------------------------------------------------\u001b[0m",
      "\u001b[1;31mModuleNotFoundError\u001b[0m                       Traceback (most recent call last)",
      "\u001b[1;32m<ipython-input-1-bc784e61c938>\u001b[0m in \u001b[0;36m<module>\u001b[1;34m\u001b[0m\n\u001b[0;32m      3\u001b[0m \u001b[1;32mimport\u001b[0m \u001b[0mrandom\u001b[0m\u001b[1;33m\u001b[0m\u001b[1;33m\u001b[0m\u001b[0m\n\u001b[0;32m      4\u001b[0m \u001b[1;32mimport\u001b[0m \u001b[0mtensorflow\u001b[0m \u001b[1;32mas\u001b[0m \u001b[0mtf\u001b[0m\u001b[1;33m\u001b[0m\u001b[1;33m\u001b[0m\u001b[0m\n\u001b[1;32m----> 5\u001b[1;33m \u001b[1;32mimport\u001b[0m \u001b[0mmatplotlib\u001b[0m\u001b[1;33m.\u001b[0m\u001b[0mpyplot\u001b[0m \u001b[1;32mas\u001b[0m \u001b[0mplt\u001b[0m\u001b[1;33m\u001b[0m\u001b[1;33m\u001b[0m\u001b[0m\n\u001b[0m\u001b[0;32m      6\u001b[0m \u001b[0mget_ipython\u001b[0m\u001b[1;33m(\u001b[0m\u001b[1;33m)\u001b[0m\u001b[1;33m.\u001b[0m\u001b[0mrun_line_magic\u001b[0m\u001b[1;33m(\u001b[0m\u001b[1;34m'matplotlib'\u001b[0m\u001b[1;33m,\u001b[0m \u001b[1;34m'inline'\u001b[0m\u001b[1;33m)\u001b[0m\u001b[1;33m\u001b[0m\u001b[1;33m\u001b[0m\u001b[0m\n",
      "\u001b[1;31mModuleNotFoundError\u001b[0m: No module named 'matplotlib'"
     ]
    }
   ],
   "source": [
    "import gym\n",
    "import numpy as np\n",
    "import random\n",
    "import tensorflow as tf\n",
    "import matplotlib.pyplot as plt\n",
    "%matplotlib inline"
   ]
  },
  {
   "cell_type": "code",
   "execution_count": null,
   "metadata": {},
   "outputs": [],
   "source": [
    "#Es un entorno sencillo que nos permite hacer pruebas rapidas con QLearning\n",
    "env = gym.make('FrozenLake-v0')"
   ]
  },
  {
   "cell_type": "code",
   "execution_count": null,
   "metadata": {},
   "outputs": [],
   "source": [
    "tf.reset_default_graph()"
   ]
  },
  {
   "cell_type": "code",
   "execution_count": null,
   "metadata": {},
   "outputs": [],
   "source": [
    "#Si usamos una red neuronal para predecir el valor de un par (Estado,accion)\n",
    "\n",
    "#Aquí no hay función de activación por lo que todo el modelo será lineal\n",
    "#Para un caso simple como este basta, pero para casos mas complejos necesitaremos funciones de activacion como RELU o la sigmoide.\n",
    "#La predicción será la acción que mayor Q tenga\n",
    "\n",
    "inputs1 = tf.placeholder(shape=[1,16],dtype=tf.float32)\n",
    "W = tf.Variable(tf.random_uniform([16,4],0,0.01))  #Los pesos serán los parámetros que modificará la NN\n",
    "Qout = tf.matmul(inputs1,W)\n",
    "predict = tf.argmax(Qout,1)\n",
    "\n",
    "nextQ = tf.placeholder(shape = [1,4], dtype = tf.float32)\n",
    "#al usar los errores cuadráticos les damos más importancia a los mayores y menos a las pequeñas desviaciones\n",
    "loss = tf.reduce_sum(tf.square(nextQ - Qout))\n",
    "\n",
    "trainer = tf.train.GradientDescentOptimizer(learning_rate = 0.1)\n",
    "updateModel = trainer.minimize(loss)"
   ]
  },
  {
   "cell_type": "code",
   "execution_count": null,
   "metadata": {},
   "outputs": [],
   "source": [
    "init = tf.initializers.global_variables()\n",
    "\n",
    "gamma = .99     #el discount factor, es decir, lo importante que son los rewards futuros para el valor Q\n",
    "epsilon = .1    #el epsilon nos sirve para controlar el factor de exploración\n",
    "num_episodes = 4000\n",
    "\n",
    "episode_list = []      # la cantidad de pasos que tarda cada episodio\n",
    "reward_list = []       #la lista de rewards de todos los episodios\n",
    "\n",
    "with tf.Session() as sess:\n",
    "    sess.run(init) #inicializamos la sesión y las variables globales\n",
    "    for i in range(num_episodes):\n",
    "        \n",
    "        s = env.reset()\n",
    "        rAll = 0\n",
    "        d = False\n",
    "        j = 0\n",
    "        \n",
    "        while j < 99:  #99 es el numero maximo de pasos en un episodio\n",
    "            j += 1\n",
    "            \n",
    "            #hacemos una ejecucion de la red neuronal con los datos del estado y sacamos las predicciones junto con la mejor accion\n",
    "            a,allQ = sess.run([predict,Qout], feed_dict = {inputs1:np.identity(16)[s:s+1]})\n",
    "            \n",
    "            #aqui gestionamos la exploración con el parametro epsilon\n",
    "            if np.random.rand(1) < epsilon:\n",
    "                a[0] = env.action_space.sample()\n",
    "                \n",
    "            #hacemos un step con la acción elegida y recibimos la señal de recompensa del entorno\n",
    "            s1,r,d,_ = env.step(a[0])\n",
    "            \n",
    "            #Recibimos las predicciones de los valores Q para el proximo estado\n",
    "            Q1 = sess.run(Qout, feed_dict = {inputs1:np.identity(16)[s1:s1+1]})\n",
    "            \n",
    "            #obtenemos la mayor para s+1 para poder actualizar el valor de Q con el gamma por el maximo de s+1\n",
    "            maxQ1 = np.max(Q1)\n",
    "            \n",
    "            targetQ = allQ\n",
    "            #solo hay 1 elemento en la dim 0 y en la segunda son el valor q para cada accion\n",
    "            #asi que acutalizamos el valor de targetq basandonos en eso\n",
    "            targetQ[0,a[0]] = r + gamma*maxQ1\n",
    "            \n",
    "            #hacemos aqui la parte de backpropagation actualizando la funcion de coste dado el estado actual y como nextQ le pasamos el targetQ calculado\n",
    "            _,W1 = sess.run([updateModel,W],feed_dict={inputs1:np.identity(16)[s:s+1],nextQ:targetQ})\n",
    "            rAll += r\n",
    "            s = s1\n",
    "            if d == True:\n",
    "                epsilon = 1./((i/50) + 10)\n",
    "                break\n",
    "        episode_list.append(j)\n",
    "        reward_list.append(rAll)\n",
    "        print(\"Average score per episode: \" + str(sum(reward_list)/num_episodes) + \" at iteration:\" + str(i))\n",
    "        "
   ]
  },
  {
   "cell_type": "code",
   "execution_count": null,
   "metadata": {},
   "outputs": [],
   "source": [
    "plt.xscale(\"log\")\n",
    "plt.plot(reward_list)"
   ]
  },
  {
   "cell_type": "code",
   "execution_count": null,
   "metadata": {},
   "outputs": [],
   "source": [
    "plt.xscale(\"log\")\n",
    "plt.plot(episode_list)"
   ]
  },
  {
   "cell_type": "code",
   "execution_count": null,
   "metadata": {},
   "outputs": [],
   "source": []
  }
 ],
 "metadata": {
  "kernelspec": {
   "display_name": "Python 3",
   "language": "python",
   "name": "python3"
  },
  "language_info": {
   "codemirror_mode": {
    "name": "ipython",
    "version": 3
   },
   "file_extension": ".py",
   "mimetype": "text/x-python",
   "name": "python",
   "nbconvert_exporter": "python",
   "pygments_lexer": "ipython3",
   "version": "3.6.8"
  }
 },
 "nbformat": 4,
 "nbformat_minor": 2
}
