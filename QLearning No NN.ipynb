{
 "cells": [
  {
   "cell_type": "code",
   "execution_count": 1,
   "metadata": {},
   "outputs": [],
   "source": [
    "#para este ejemplo no nos hace falta tensorflow, con mumpy basta\n",
    "import gym\n",
    "import numpy as np\n",
    "import matplotlib.pyplot as plt"
   ]
  },
  {
   "cell_type": "code",
   "execution_count": 2,
   "metadata": {},
   "outputs": [],
   "source": [
    "#creamos el entorno\n",
    "env = gym.make('FrozenLake-v0')"
   ]
  },
  {
   "cell_type": "code",
   "execution_count": 3,
   "metadata": {},
   "outputs": [],
   "source": [
    "#generamos la tabla QTable con tamaño [numero_observaciones, numero_de_acciones]\n",
    "QTable = np.zeros([env.observation_space.n, env.action_space.n])\n",
    "\n",
    "learning_rate = .9 \n",
    "discount_factor = .95\n",
    "num_episodes = 4000\n",
    "reward_list = []\n",
    "\n",
    "for i in range(num_episodes):\n",
    "    s = env.reset()\n",
    "    rAll = 0\n",
    "    done = False\n",
    "    j = 0\n",
    "    \n",
    "    while j < 99:\n",
    "        j+=1\n",
    "        #el simbolo : coge todos las acciones para un estado s\n",
    "        #el random es coge una accion aleatoria en funcion del episodio, a mas episodios menos probababilidad\n",
    "        a = np.argmax(QTable[s,:] + np.random.randn(1,env.action_space.n)* (1./(i+1)))\n",
    "        #avanzamos el entorno\n",
    "        s1,reward,done,_ = env.step(a)\n",
    "        #formula del QLearning. Usamos la ecuacion de bellman para alcanzar la politica optima\n",
    "        QTable[s,a] = QTable[s,a] + learning_rate * (reward + discount_factor * np.max(QTable[s1,:]) - QTable[s,a])\n",
    "        rAll += reward\n",
    "        s = s1\n",
    "        if done == True:\n",
    "            break\n",
    "            \n",
    "    reward_list.append(rAll)\n",
    "        \n",
    "        "
   ]
  },
  {
   "cell_type": "code",
   "execution_count": 4,
   "metadata": {},
   "outputs": [
    {
     "name": "stdout",
     "output_type": "stream",
     "text": [
      "Score over time: 0.451\n"
     ]
    }
   ],
   "source": [
    "print(\"Score over time: \" + str(sum(reward_list) / num_episodes)) "
   ]
  },
  {
   "cell_type": "code",
   "execution_count": 5,
   "metadata": {},
   "outputs": [
    {
     "name": "stdout",
     "output_type": "stream",
     "text": [
      "Final Q-Table Values\n",
      "[[1.14131111e-01 6.80561543e-04 7.11694361e-04 7.94869416e-04]\n",
      " [1.74900506e-06 1.09895677e-05 7.14339704e-05 2.15260658e-01]\n",
      " [1.29178746e-01 3.10396161e-04 2.12694233e-04 5.82365559e-04]\n",
      " [3.69030465e-06 2.22039840e-05 6.14156473e-04 5.58069370e-04]\n",
      " [2.26841974e-01 2.07360097e-04 2.81922037e-05 1.39293513e-04]\n",
      " [0.00000000e+00 0.00000000e+00 0.00000000e+00 0.00000000e+00]\n",
      " [1.29762358e-01 1.99511236e-04 8.18463528e-05 4.52435569e-04]\n",
      " [0.00000000e+00 0.00000000e+00 0.00000000e+00 0.00000000e+00]\n",
      " [1.08844549e-04 5.01751129e-05 2.64215935e-05 1.16188334e-01]\n",
      " [1.30321347e-04 3.58886060e-01 4.13848569e-05 5.09932524e-05]\n",
      " [1.16474875e-01 7.75807682e-05 9.55408920e-06 2.51541756e-04]\n",
      " [0.00000000e+00 0.00000000e+00 0.00000000e+00 0.00000000e+00]\n",
      " [0.00000000e+00 0.00000000e+00 0.00000000e+00 0.00000000e+00]\n",
      " [1.39543527e-03 6.94660997e-04 9.25170216e-02 0.00000000e+00]\n",
      " [0.00000000e+00 0.00000000e+00 0.00000000e+00 9.12061020e-01]\n",
      " [0.00000000e+00 0.00000000e+00 0.00000000e+00 0.00000000e+00]]\n"
     ]
    }
   ],
   "source": [
    "print(\"Final Q-Table Values\")\n",
    "print(QTable)"
   ]
  },
  {
   "cell_type": "code",
   "execution_count": 6,
   "metadata": {},
   "outputs": [
    {
     "data": {
      "text/plain": [
       "[<matplotlib.lines.Line2D at 0x19573324828>]"
      ]
     },
     "execution_count": 6,
     "metadata": {},
     "output_type": "execute_result"
    },
    {
     "data": {
      "image/png": "[encoded data removed]",
      "text/plain": [
       "<matplotlib.figure.Figure at 0x19573223710>"
      ]
     },
     "metadata": {
      "needs_background": "light"
     },
     "output_type": "display_data"
    }
   ],
   "source": [
    "#mostramos el reward con el tiempo\n",
    "plt.xscale(\"log\")\n",
    "plt.plot(reward_list)"
   ]
  },
  {
   "cell_type": "code",
   "execution_count": null,
   "metadata": {},
   "outputs": [],
   "source": []
  }
 ],
 "metadata": {
  "kernelspec": {
   "display_name": "Python 3",
   "language": "python",
   "name": "python3"
  },
  "language_info": {
   "codemirror_mode": {
    "name": "ipython",
    "version": 3
   },
   "file_extension": ".py",
   "mimetype": "text/x-python",
   "name": "python",
   "nbconvert_exporter": "python",
   "pygments_lexer": "ipython3",
   "version": "3.6.4"
  }
 },
 "nbformat": 4,
 "nbformat_minor": 2
}
