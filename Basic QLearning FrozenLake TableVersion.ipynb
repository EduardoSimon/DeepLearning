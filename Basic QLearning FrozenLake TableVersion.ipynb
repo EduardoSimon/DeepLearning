{
 "cells": [
  {
   "cell_type": "code",
   "execution_count": 1,
   "metadata": {},
   "outputs": [],
   "source": [
    "import gym\n",
    "import numpy as np"
   ]
  },
  {
   "cell_type": "code",
   "execution_count": 2,
   "metadata": {},
   "outputs": [],
   "source": [
    "env = gym.make('FrozenLake-v0')"
   ]
  },
  {
   "cell_type": "code",
   "execution_count": 3,
   "metadata": {},
   "outputs": [],
   "source": [
    "Q = np.zeros([env.observation_space.n, env.action_space.n])\n",
    "\n",
    "gamma = .9\n",
    "discount_factor = .95\n",
    "num_episodes = 20000\n",
    "reward_list = []\n",
    "\n",
    "for i in range(num_episodes):\n",
    "    s = env.reset()\n",
    "    rAll = 0\n",
    "    d = False\n",
    "    j = 0\n",
    "    \n",
    "    while j < 99:\n",
    "        j+=1\n",
    "        #el simbolo : coge todos las acciones para un estado s, el random es como el epsilon\n",
    "        a = np.argmax(Q[s,:] + np.random.randn(1,env.action_space.n)* (1./(i+1)))\n",
    "        s1,r,d,_ = env.step(a)\n",
    "        Q[s,a] = Q[s,a] + gamma * (r + discount_factor * np.max(Q[s1,:]) - Q[s,a])\n",
    "        rAll += r\n",
    "        s = s1\n",
    "        if d == True:\n",
    "            break\n",
    "            \n",
    "    reward_list.append(rAll)\n",
    "        \n",
    "        "
   ]
  },
  {
   "cell_type": "code",
   "execution_count": 4,
   "metadata": {},
   "outputs": [
    {
     "name": "stdout",
     "output_type": "stream",
     "text": [
      "Score over time: 0.59125\n"
     ]
    }
   ],
   "source": [
    "print(\"Score over time: \" + str(sum(reward_list) / num_episodes)) "
   ]
  },
  {
   "cell_type": "code",
   "execution_count": 5,
   "metadata": {},
   "outputs": [
    {
     "name": "stdout",
     "output_type": "stream",
     "text": [
      "Final Q-Table Values\n",
      "[[2.16116456e-01 1.99291430e-04 1.99120450e-04 1.89393557e-04]\n",
      " [4.41972244e-05 2.77331901e-05 3.20813184e-05 2.59941254e-01]\n",
      " [6.94673469e-02 1.80366182e-04 1.62020059e-04 1.57887364e-04]\n",
      " [1.81337775e-05 1.61802036e-04 1.61525283e-04 1.98668296e-04]\n",
      " [3.30136787e-01 3.08507634e-06 7.57522710e-06 2.02717001e-05]\n",
      " [0.00000000e+00 0.00000000e+00 0.00000000e+00 0.00000000e+00]\n",
      " [5.24985038e-03 6.03018734e-10 2.73604797e-06 7.02204781e-08]\n",
      " [0.00000000e+00 0.00000000e+00 0.00000000e+00 0.00000000e+00]\n",
      " [3.62998373e-05 1.58679198e-06 2.39267617e-05 1.88030876e-01]\n",
      " [1.15062837e-05 6.31908552e-01 7.50163656e-05 5.56220836e-05]\n",
      " [6.00980729e-02 1.11280440e-06 4.20175821e-06 1.95779361e-05]\n",
      " [0.00000000e+00 0.00000000e+00 0.00000000e+00 0.00000000e+00]\n",
      " [0.00000000e+00 0.00000000e+00 0.00000000e+00 0.00000000e+00]\n",
      " [0.00000000e+00 0.00000000e+00 7.32176227e-01 0.00000000e+00]\n",
      " [0.00000000e+00 0.00000000e+00 8.89073523e-01 1.53413160e-03]\n",
      " [0.00000000e+00 0.00000000e+00 0.00000000e+00 0.00000000e+00]]\n"
     ]
    }
   ],
   "source": [
    "print(\"Final Q-Table Values\")\n",
    "print(Q)"
   ]
  }
 ],
 "metadata": {
  "kernelspec": {
   "display_name": "Python 3",
   "language": "python",
   "name": "python3"
  },
  "language_info": {
   "codemirror_mode": {
    "name": "ipython",
    "version": 3
   },
   "file_extension": ".py",
   "mimetype": "text/x-python",
   "name": "python",
   "nbconvert_exporter": "python",
   "pygments_lexer": "ipython3",
   "version": "3.6.4"
  }
 },
 "nbformat": 4,
 "nbformat_minor": 2
}
